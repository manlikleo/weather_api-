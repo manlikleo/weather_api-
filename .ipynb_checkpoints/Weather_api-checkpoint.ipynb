{
 "cells": [
  {
   "cell_type": "code",
   "execution_count": 17,
   "metadata": {},
   "outputs": [
    {
     "name": "stdout",
     "output_type": "stream",
     "text": [
      "http://api.openweathermap.org/data/2.5/forecast?q=Lagos,NG,&appid=89eac0dd10460da7ac53c470ea8d46d1&units=metric\n"
     ]
    }
   ],
   "source": [
    "import requests\n",
    "import pandas as pd \n",
    "\n",
    "City_API_endpoint = \"http://api.openweathermap.org/data/2.5/forecast?q=\"\n",
    "City = \"Lagos\"\n",
    "Country = \",NG,\"\n",
    "join_key = \"&appid=\" + \"89eac0dd10460da7ac53c470ea8d46d1\"\n",
    "units = \"&units=metric\"\n",
    "\n",
    "current_city_weather = City_API_endpoint + City + Country + join_key + units\n",
    "print(current_city_weather)"
   ]
  },
  {
   "cell_type": "code",
   "execution_count": 18,
   "metadata": {},
   "outputs": [
    {
     "name": "stdout",
     "output_type": "stream",
     "text": [
      "{'cod': '200', 'message': 0, 'cnt': 40, 'list': [{'dt': 1597212000, 'main': {'temp': 21.56, 'feels_like': 25.35, 'temp_min': 21.1, 'temp_max': 21.56, 'pressure': 1015, 'sea_level': 1015, 'grnd_level': 1015, 'humidity': 96, 'temp_kf': 0.46}, 'weather': [{'id': 801, 'main': 'Clouds', 'description': 'few clouds', 'icon': '02d'}], 'clouds': {'all': 14}, 'wind': {'speed': 0.49, 'deg': 309}, 'visibility': 10000, 'pop': 0, 'sys': {'pod': 'd'}, 'dt_txt': '2020-08-12 06:00:00'}, {'dt': 1597222800, 'main': {'temp': 26.61, 'feels_like': 29.33, 'temp_min': 26.61, 'temp_max': 27.88, 'pressure': 1016, 'sea_level': 1016, 'grnd_level': 1016, 'humidity': 70, 'temp_kf': -1.27}, 'weather': [{'id': 803, 'main': 'Clouds', 'description': 'broken clouds', 'icon': '04d'}], 'clouds': {'all': 62}, 'wind': {'speed': 1.87, 'deg': 227}, 'visibility': 10000, 'pop': 0, 'sys': {'pod': 'd'}, 'dt_txt': '2020-08-12 09:00:00'}, {'dt': 1597233600, 'main': {'temp': 29.24, 'feels_like': 30.49, 'temp_min': 29.24, 'temp_max': 29.74, 'pressure': 1014, 'sea_level': 1014, 'grnd_level': 1014, 'humidity': 56, 'temp_kf': -0.5}, 'weather': [{'id': 802, 'main': 'Clouds', 'description': 'scattered clouds', 'icon': '03d'}], 'clouds': {'all': 39}, 'wind': {'speed': 3.18, 'deg': 217}, 'visibility': 10000, 'pop': 0, 'sys': {'pod': 'd'}, 'dt_txt': '2020-08-12 12:00:00'}, {'dt': 1597244400, 'main': {'temp': 28.58, 'feels_like': 29.22, 'temp_min': 28.58, 'temp_max': 28.63, 'pressure': 1012, 'sea_level': 1012, 'grnd_level': 1012, 'humidity': 58, 'temp_kf': -0.05}, 'weather': [{'id': 800, 'main': 'Clear', 'description': 'clear sky', 'icon': '01d'}], 'clouds': {'all': 0}, 'wind': {'speed': 4.03, 'deg': 213}, 'visibility': 10000, 'pop': 0, 'sys': {'pod': 'd'}, 'dt_txt': '2020-08-12 15:00:00'}, {'dt': 1597255200, 'main': {'temp': 24.03, 'feels_like': 25.87, 'temp_min': 24.03, 'temp_max': 24.03, 'pressure': 1012, 'sea_level': 1012, 'grnd_level': 1012, 'humidity': 80, 'temp_kf': 0}, 'weather': [{'id': 801, 'main': 'Clouds', 'description': 'few clouds', 'icon': '02d'}], 'clouds': {'all': 12}, 'wind': {'speed': 2.9, 'deg': 217}, 'visibility': 10000, 'pop': 0, 'sys': {'pod': 'd'}, 'dt_txt': '2020-08-12 18:00:00'}, {'dt': 1597266000, 'main': {'temp': 22.93, 'feels_like': 25.62, 'temp_min': 22.93, 'temp_max': 22.93, 'pressure': 1015, 'sea_level': 1015, 'grnd_level': 1015, 'humidity': 89, 'temp_kf': 0}, 'weather': [{'id': 801, 'main': 'Clouds', 'description': 'few clouds', 'icon': '02n'}], 'clouds': {'all': 24}, 'wind': {'speed': 2.15, 'deg': 223}, 'visibility': 10000, 'pop': 0, 'sys': {'pod': 'n'}, 'dt_txt': '2020-08-12 21:00:00'}, {'dt': 1597276800, 'main': {'temp': 22.63, 'feels_like': 25.07, 'temp_min': 22.63, 'temp_max': 22.63, 'pressure': 1014, 'sea_level': 1014, 'grnd_level': 1014, 'humidity': 91, 'temp_kf': 0}, 'weather': [{'id': 803, 'main': 'Clouds', 'description': 'broken clouds', 'icon': '04n'}], 'clouds': {'all': 54}, 'wind': {'speed': 2.55, 'deg': 237}, 'visibility': 10000, 'pop': 0, 'sys': {'pod': 'n'}, 'dt_txt': '2020-08-13 00:00:00'}, {'dt': 1597287600, 'main': {'temp': 22.07, 'feels_like': 24.93, 'temp_min': 22.07, 'temp_max': 22.07, 'pressure': 1013, 'sea_level': 1013, 'grnd_level': 1013, 'humidity': 93, 'temp_kf': 0}, 'weather': [{'id': 804, 'main': 'Clouds', 'description': 'overcast clouds', 'icon': '04n'}], 'clouds': {'all': 100}, 'wind': {'speed': 1.81, 'deg': 250}, 'visibility': 10000, 'pop': 0, 'sys': {'pod': 'n'}, 'dt_txt': '2020-08-13 03:00:00'}, {'dt': 1597298400, 'main': {'temp': 23.2, 'feels_like': 26.01, 'temp_min': 23.2, 'temp_max': 23.2, 'pressure': 1015, 'sea_level': 1015, 'grnd_level': 1015, 'humidity': 85, 'temp_kf': 0}, 'weather': [{'id': 804, 'main': 'Clouds', 'description': 'overcast clouds', 'icon': '04d'}], 'clouds': {'all': 100}, 'wind': {'speed': 1.64, 'deg': 261}, 'visibility': 10000, 'pop': 0, 'sys': {'pod': 'd'}, 'dt_txt': '2020-08-13 06:00:00'}, {'dt': 1597309200, 'main': {'temp': 25.38, 'feels_like': 27.81, 'temp_min': 25.38, 'temp_max': 25.38, 'pressure': 1016, 'sea_level': 1016, 'grnd_level': 1016, 'humidity': 73, 'temp_kf': 0}, 'weather': [{'id': 804, 'main': 'Clouds', 'description': 'overcast clouds', 'icon': '04d'}], 'clouds': {'all': 100}, 'wind': {'speed': 1.93, 'deg': 261}, 'visibility': 10000, 'pop': 0, 'sys': {'pod': 'd'}, 'dt_txt': '2020-08-13 09:00:00'}, {'dt': 1597320000, 'main': {'temp': 27.93, 'feels_like': 29.2, 'temp_min': 27.93, 'temp_max': 27.93, 'pressure': 1014, 'sea_level': 1014, 'grnd_level': 1014, 'humidity': 63, 'temp_kf': 0}, 'weather': [{'id': 804, 'main': 'Clouds', 'description': 'overcast clouds', 'icon': '04d'}], 'clouds': {'all': 98}, 'wind': {'speed': 3.61, 'deg': 223}, 'visibility': 10000, 'pop': 0, 'sys': {'pod': 'd'}, 'dt_txt': '2020-08-13 12:00:00'}, {'dt': 1597330800, 'main': {'temp': 27.09, 'feels_like': 27.92, 'temp_min': 27.09, 'temp_max': 27.09, 'pressure': 1011, 'sea_level': 1011, 'grnd_level': 1011, 'humidity': 67, 'temp_kf': 0}, 'weather': [{'id': 804, 'main': 'Clouds', 'description': 'overcast clouds', 'icon': '04d'}], 'clouds': {'all': 96}, 'wind': {'speed': 4.38, 'deg': 225}, 'visibility': 10000, 'pop': 0, 'sys': {'pod': 'd'}, 'dt_txt': '2020-08-13 15:00:00'}, {'dt': 1597341600, 'main': {'temp': 23.55, 'feels_like': 24.55, 'temp_min': 23.55, 'temp_max': 23.55, 'pressure': 1011, 'sea_level': 1011, 'grnd_level': 1011, 'humidity': 81, 'temp_kf': 0}, 'weather': [{'id': 804, 'main': 'Clouds', 'description': 'overcast clouds', 'icon': '04d'}], 'clouds': {'all': 96}, 'wind': {'speed': 3.91, 'deg': 223}, 'visibility': 10000, 'pop': 0, 'sys': {'pod': 'd'}, 'dt_txt': '2020-08-13 18:00:00'}, {'dt': 1597352400, 'main': {'temp': 22.87, 'feels_like': 24.64, 'temp_min': 22.87, 'temp_max': 22.87, 'pressure': 1014, 'sea_level': 1014, 'grnd_level': 1014, 'humidity': 86, 'temp_kf': 0}, 'weather': [{'id': 804, 'main': 'Clouds', 'description': 'overcast clouds', 'icon': '04n'}], 'clouds': {'all': 97}, 'wind': {'speed': 3.02, 'deg': 224}, 'visibility': 10000, 'pop': 0, 'sys': {'pod': 'n'}, 'dt_txt': '2020-08-13 21:00:00'}, {'dt': 1597363200, 'main': {'temp': 22.86, 'feels_like': 24.65, 'temp_min': 22.86, 'temp_max': 22.86, 'pressure': 1013, 'sea_level': 1013, 'grnd_level': 1013, 'humidity': 86, 'temp_kf': 0}, 'weather': [{'id': 804, 'main': 'Clouds', 'description': 'overcast clouds', 'icon': '04n'}], 'clouds': {'all': 99}, 'wind': {'speed': 2.99, 'deg': 226}, 'visibility': 10000, 'pop': 0, 'sys': {'pod': 'n'}, 'dt_txt': '2020-08-14 00:00:00'}, {'dt': 1597374000, 'main': {'temp': 23.19, 'feels_like': 24.94, 'temp_min': 23.19, 'temp_max': 23.19, 'pressure': 1011, 'sea_level': 1011, 'grnd_level': 1011, 'humidity': 83, 'temp_kf': 0}, 'weather': [{'id': 804, 'main': 'Clouds', 'description': 'overcast clouds', 'icon': '04n'}], 'clouds': {'all': 98}, 'wind': {'speed': 2.88, 'deg': 240}, 'visibility': 10000, 'pop': 0, 'sys': {'pod': 'n'}, 'dt_txt': '2020-08-14 03:00:00'}, {'dt': 1597384800, 'main': {'temp': 23.32, 'feels_like': 24.9, 'temp_min': 23.32, 'temp_max': 23.32, 'pressure': 1012, 'sea_level': 1012, 'grnd_level': 1012, 'humidity': 83, 'temp_kf': 0}, 'weather': [{'id': 804, 'main': 'Clouds', 'description': 'overcast clouds', 'icon': '04d'}], 'clouds': {'all': 99}, 'wind': {'speed': 3.21, 'deg': 233}, 'visibility': 10000, 'pop': 0, 'sys': {'pod': 'd'}, 'dt_txt': '2020-08-14 06:00:00'}, {'dt': 1597395600, 'main': {'temp': 24.7, 'feels_like': 25.64, 'temp_min': 24.7, 'temp_max': 24.7, 'pressure': 1013, 'sea_level': 1013, 'grnd_level': 1013, 'humidity': 77, 'temp_kf': 0}, 'weather': [{'id': 500, 'main': 'Rain', 'description': 'light rain', 'icon': '10d'}], 'clouds': {'all': 100}, 'wind': {'speed': 4.2, 'deg': 233}, 'visibility': 10000, 'pop': 0.46, 'rain': {'3h': 0.12}, 'sys': {'pod': 'd'}, 'dt_txt': '2020-08-14 09:00:00'}, {'dt': 1597406400, 'main': {'temp': 23.47, 'feels_like': 24.47, 'temp_min': 23.47, 'temp_max': 23.47, 'pressure': 1012, 'sea_level': 1012, 'grnd_level': 1012, 'humidity': 83, 'temp_kf': 0}, 'weather': [{'id': 500, 'main': 'Rain', 'description': 'light rain', 'icon': '10d'}], 'clouds': {'all': 100}, 'wind': {'speed': 4.13, 'deg': 229}, 'visibility': 10000, 'pop': 0.5, 'rain': {'3h': 0.58}, 'sys': {'pod': 'd'}, 'dt_txt': '2020-08-14 12:00:00'}, {'dt': 1597417200, 'main': {'temp': 22.98, 'feels_like': 24.13, 'temp_min': 22.98, 'temp_max': 22.98, 'pressure': 1010, 'sea_level': 1010, 'grnd_level': 1010, 'humidity': 85, 'temp_kf': 0}, 'weather': [{'id': 500, 'main': 'Rain', 'description': 'light rain', 'icon': '10d'}], 'clouds': {'all': 100}, 'wind': {'speed': 3.85, 'deg': 224}, 'visibility': 10000, 'pop': 0.57, 'rain': {'3h': 1.68}, 'sys': {'pod': 'd'}, 'dt_txt': '2020-08-14 15:00:00'}, {'dt': 1597428000, 'main': {'temp': 23.19, 'feels_like': 25, 'temp_min': 23.19, 'temp_max': 23.19, 'pressure': 1011, 'sea_level': 1011, 'grnd_level': 1011, 'humidity': 85, 'temp_kf': 0}, 'weather': [{'id': 500, 'main': 'Rain', 'description': 'light rain', 'icon': '10n'}], 'clouds': {'all': 100}, 'wind': {'speed': 3.06, 'deg': 224}, 'visibility': 10000, 'pop': 0.61, 'rain': {'3h': 0.12}, 'sys': {'pod': 'n'}, 'dt_txt': '2020-08-14 18:00:00'}, {'dt': 1597438800, 'main': {'temp': 23.23, 'feels_like': 25.41, 'temp_min': 23.23, 'temp_max': 23.23, 'pressure': 1012, 'sea_level': 1012, 'grnd_level': 1012, 'humidity': 85, 'temp_kf': 0}, 'weather': [{'id': 804, 'main': 'Clouds', 'description': 'overcast clouds', 'icon': '04n'}], 'clouds': {'all': 100}, 'wind': {'speed': 2.56, 'deg': 211}, 'visibility': 10000, 'pop': 0, 'sys': {'pod': 'n'}, 'dt_txt': '2020-08-14 21:00:00'}, {'dt': 1597449600, 'main': {'temp': 22.82, 'feels_like': 25.21, 'temp_min': 22.82, 'temp_max': 22.82, 'pressure': 1012, 'sea_level': 1012, 'grnd_level': 1012, 'humidity': 88, 'temp_kf': 0}, 'weather': [{'id': 500, 'main': 'Rain', 'description': 'light rain', 'icon': '10n'}], 'clouds': {'all': 100}, 'wind': {'speed': 2.37, 'deg': 225}, 'visibility': 10000, 'pop': 0.2, 'rain': {'3h': 0.11}, 'sys': {'pod': 'n'}, 'dt_txt': '2020-08-15 00:00:00'}, {'dt': 1597460400, 'main': {'temp': 22.8, 'feels_like': 25.11, 'temp_min': 22.8, 'temp_max': 22.8, 'pressure': 1011, 'sea_level': 1011, 'grnd_level': 1011, 'humidity': 88, 'temp_kf': 0}, 'weather': [{'id': 500, 'main': 'Rain', 'description': 'light rain', 'icon': '10n'}], 'clouds': {'all': 95}, 'wind': {'speed': 2.47, 'deg': 223}, 'visibility': 10000, 'pop': 0.2, 'rain': {'3h': 0.11}, 'sys': {'pod': 'n'}, 'dt_txt': '2020-08-15 03:00:00'}, {'dt': 1597471200, 'main': {'temp': 23.24, 'feels_like': 26.15, 'temp_min': 23.24, 'temp_max': 23.24, 'pressure': 1012, 'sea_level': 1012, 'grnd_level': 1012, 'humidity': 89, 'temp_kf': 0}, 'weather': [{'id': 500, 'main': 'Rain', 'description': 'light rain', 'icon': '10d'}], 'clouds': {'all': 96}, 'wind': {'speed': 2.05, 'deg': 220}, 'visibility': 10000, 'pop': 0.23, 'rain': {'3h': 0.23}, 'sys': {'pod': 'd'}, 'dt_txt': '2020-08-15 06:00:00'}, {'dt': 1597482000, 'main': {'temp': 26.01, 'feels_like': 27.83, 'temp_min': 26.01, 'temp_max': 26.01, 'pressure': 1013, 'sea_level': 1013, 'grnd_level': 1013, 'humidity': 77, 'temp_kf': 0}, 'weather': [{'id': 500, 'main': 'Rain', 'description': 'light rain', 'icon': '10d'}], 'clouds': {'all': 86}, 'wind': {'speed': 3.86, 'deg': 221}, 'visibility': 10000, 'pop': 0.71, 'rain': {'3h': 0.79}, 'sys': {'pod': 'd'}, 'dt_txt': '2020-08-15 09:00:00'}, {'dt': 1597492800, 'main': {'temp': 29.07, 'feels_like': 29.88, 'temp_min': 29.07, 'temp_max': 29.07, 'pressure': 1012, 'sea_level': 1012, 'grnd_level': 1012, 'humidity': 61, 'temp_kf': 0}, 'weather': [{'id': 500, 'main': 'Rain', 'description': 'light rain', 'icon': '10d'}], 'clouds': {'all': 93}, 'wind': {'speed': 4.66, 'deg': 230}, 'visibility': 10000, 'pop': 0.58, 'rain': {'3h': 0.37}, 'sys': {'pod': 'd'}, 'dt_txt': '2020-08-15 12:00:00'}, {'dt': 1597503600, 'main': {'temp': 27.81, 'feels_like': 28.42, 'temp_min': 27.81, 'temp_max': 27.81, 'pressure': 1010, 'sea_level': 1010, 'grnd_level': 1010, 'humidity': 64, 'temp_kf': 0}, 'weather': [{'id': 803, 'main': 'Clouds', 'description': 'broken clouds', 'icon': '04d'}], 'clouds': {'all': 74}, 'wind': {'speed': 4.65, 'deg': 234}, 'visibility': 10000, 'pop': 0.12, 'sys': {'pod': 'd'}, 'dt_txt': '2020-08-15 15:00:00'}, {'dt': 1597514400, 'main': {'temp': 24.76, 'feels_like': 25.82, 'temp_min': 24.76, 'temp_max': 24.76, 'pressure': 1010, 'sea_level': 1010, 'grnd_level': 1010, 'humidity': 74, 'temp_kf': 0}, 'weather': [{'id': 803, 'main': 'Clouds', 'description': 'broken clouds', 'icon': '04n'}], 'clouds': {'all': 84}, 'wind': {'speed': 3.63, 'deg': 232}, 'visibility': 10000, 'pop': 0.07, 'sys': {'pod': 'n'}, 'dt_txt': '2020-08-15 18:00:00'}, {'dt': 1597525200, 'main': {'temp': 23.94, 'feels_like': 25.64, 'temp_min': 23.94, 'temp_max': 23.94, 'pressure': 1013, 'sea_level': 1013, 'grnd_level': 1013, 'humidity': 80, 'temp_kf': 0}, 'weather': [{'id': 803, 'main': 'Clouds', 'description': 'broken clouds', 'icon': '04n'}], 'clouds': {'all': 80}, 'wind': {'speed': 3.04, 'deg': 235}, 'visibility': 10000, 'pop': 0.31, 'sys': {'pod': 'n'}, 'dt_txt': '2020-08-15 21:00:00'}, {'dt': 1597536000, 'main': {'temp': 23.02, 'feels_like': 24.78, 'temp_min': 23.02, 'temp_max': 23.02, 'pressure': 1012, 'sea_level': 1012, 'grnd_level': 1012, 'humidity': 83, 'temp_kf': 0}, 'weather': [{'id': 802, 'main': 'Clouds', 'description': 'scattered clouds', 'icon': '03n'}], 'clouds': {'all': 47}, 'wind': {'speed': 2.74, 'deg': 251}, 'visibility': 10000, 'pop': 0.19, 'sys': {'pod': 'n'}, 'dt_txt': '2020-08-16 00:00:00'}, {'dt': 1597546800, 'main': {'temp': 22.38, 'feels_like': 24.45, 'temp_min': 22.38, 'temp_max': 22.38, 'pressure': 1011, 'sea_level': 1011, 'grnd_level': 1011, 'humidity': 85, 'temp_kf': 0}, 'weather': [{'id': 800, 'main': 'Clear', 'description': 'clear sky', 'icon': '01n'}], 'clouds': {'all': 9}, 'wind': {'speed': 2.14, 'deg': 260}, 'visibility': 10000, 'pop': 0, 'sys': {'pod': 'n'}, 'dt_txt': '2020-08-16 03:00:00'}, {'dt': 1597557600, 'main': {'temp': 21.93, 'feels_like': 24.33, 'temp_min': 21.93, 'temp_max': 21.93, 'pressure': 1013, 'sea_level': 1013, 'grnd_level': 1013, 'humidity': 88, 'temp_kf': 0}, 'weather': [{'id': 802, 'main': 'Clouds', 'description': 'scattered clouds', 'icon': '03d'}], 'clouds': {'all': 43}, 'wind': {'speed': 1.75, 'deg': 280}, 'visibility': 10000, 'pop': 0, 'sys': {'pod': 'd'}, 'dt_txt': '2020-08-16 06:00:00'}, {'dt': 1597568400, 'main': {'temp': 27.12, 'feels_like': 28.27, 'temp_min': 27.12, 'temp_max': 27.12, 'pressure': 1014, 'sea_level': 1014, 'grnd_level': 1014, 'humidity': 61, 'temp_kf': 0}, 'weather': [{'id': 803, 'main': 'Clouds', 'description': 'broken clouds', 'icon': '04d'}], 'clouds': {'all': 59}, 'wind': {'speed': 2.93, 'deg': 259}, 'visibility': 10000, 'pop': 0, 'sys': {'pod': 'd'}, 'dt_txt': '2020-08-16 09:00:00'}, {'dt': 1597579200, 'main': {'temp': 28.69, 'feels_like': 29.35, 'temp_min': 28.69, 'temp_max': 28.69, 'pressure': 1012, 'sea_level': 1012, 'grnd_level': 1012, 'humidity': 55, 'temp_kf': 0}, 'weather': [{'id': 802, 'main': 'Clouds', 'description': 'scattered clouds', 'icon': '03d'}], 'clouds': {'all': 42}, 'wind': {'speed': 3.51, 'deg': 236}, 'visibility': 10000, 'pop': 0, 'sys': {'pod': 'd'}, 'dt_txt': '2020-08-16 12:00:00'}, {'dt': 1597590000, 'main': {'temp': 27.89, 'feels_like': 28.63, 'temp_min': 27.89, 'temp_max': 27.89, 'pressure': 1009, 'sea_level': 1009, 'grnd_level': 1009, 'humidity': 59, 'temp_kf': 0}, 'weather': [{'id': 804, 'main': 'Clouds', 'description': 'overcast clouds', 'icon': '04d'}], 'clouds': {'all': 96}, 'wind': {'speed': 3.64, 'deg': 228}, 'visibility': 10000, 'pop': 0, 'sys': {'pod': 'd'}, 'dt_txt': '2020-08-16 15:00:00'}, {'dt': 1597600800, 'main': {'temp': 23.98, 'feels_like': 25.19, 'temp_min': 23.98, 'temp_max': 23.98, 'pressure': 1010, 'sea_level': 1010, 'grnd_level': 1010, 'humidity': 75, 'temp_kf': 0}, 'weather': [{'id': 803, 'main': 'Clouds', 'description': 'broken clouds', 'icon': '04n'}], 'clouds': {'all': 63}, 'wind': {'speed': 3.06, 'deg': 221}, 'visibility': 10000, 'pop': 0, 'sys': {'pod': 'n'}, 'dt_txt': '2020-08-16 18:00:00'}, {'dt': 1597611600, 'main': {'temp': 23.1, 'feels_like': 24.95, 'temp_min': 23.1, 'temp_max': 23.1, 'pressure': 1012, 'sea_level': 1012, 'grnd_level': 1012, 'humidity': 81, 'temp_kf': 0}, 'weather': [{'id': 800, 'main': 'Clear', 'description': 'clear sky', 'icon': '01n'}], 'clouds': {'all': 0}, 'wind': {'speed': 2.41, 'deg': 222}, 'visibility': 10000, 'pop': 0, 'sys': {'pod': 'n'}, 'dt_txt': '2020-08-16 21:00:00'}, {'dt': 1597622400, 'main': {'temp': 22.54, 'feels_like': 24.81, 'temp_min': 22.54, 'temp_max': 22.54, 'pressure': 1012, 'sea_level': 1012, 'grnd_level': 1012, 'humidity': 86, 'temp_kf': 0}, 'weather': [{'id': 800, 'main': 'Clear', 'description': 'clear sky', 'icon': '01n'}], 'clouds': {'all': 6}, 'wind': {'speed': 2.09, 'deg': 235}, 'visibility': 10000, 'pop': 0, 'sys': {'pod': 'n'}, 'dt_txt': '2020-08-17 00:00:00'}, {'dt': 1597633200, 'main': {'temp': 22.12, 'feels_like': 24.6, 'temp_min': 22.12, 'temp_max': 22.12, 'pressure': 1011, 'sea_level': 1011, 'grnd_level': 1011, 'humidity': 89, 'temp_kf': 0}, 'weather': [{'id': 801, 'main': 'Clouds', 'description': 'few clouds', 'icon': '02n'}], 'clouds': {'all': 12}, 'wind': {'speed': 1.89, 'deg': 257}, 'visibility': 10000, 'pop': 0, 'sys': {'pod': 'n'}, 'dt_txt': '2020-08-17 03:00:00'}], 'city': {'id': 2332453, 'name': 'Lagos', 'coord': {'lat': 6.5833, 'lon': 3.75}, 'country': 'NG', 'population': 10601345, 'timezone': 3600, 'sunrise': 1597210776, 'sunset': 1597255232}}\n"
     ]
    }
   ],
   "source": [
    "api_data = requests.get(current_city_weather).json()\n",
    "print(api_data)"
   ]
  },
  {
   "cell_type": "code",
   "execution_count": 19,
   "metadata": {},
   "outputs": [],
   "source": [
    "df_predictions = pd.DataFrame()"
   ]
  },
  {
   "cell_type": "code",
   "execution_count": 20,
   "metadata": {},
   "outputs": [],
   "source": [
    "prediction_num = 0\n",
    "list_prediction_num = []\n",
    "date_time_prediction = []\n",
    "owm_city_id = []\n",
    "city_name = []\n",
    "latitude = []\n",
    "longitude = []\n",
    "country_name = []\n",
    "population = []\n",
    "timezone = [] # Shift in seconds from UTC\n",
    "sunrise = []\n",
    "sunset = []\n",
    "# Main\n",
    "temp_prediction = []\n",
    "temp_feels_like_prediction = []\n",
    "temp_min_prediction = []\n",
    "temp_max_prediction = []\n",
    "pressure_prediction = []\n",
    "sea_level_prediction = []\n",
    "grnd_level_prediction = []\n",
    "humidity_prediction = []\n",
    "temp_kf_prediction = []\n",
    "# Weather\n",
    "main_weather_prediction = []\n",
    "main_weather_description_prediction = []\n",
    "# Clouds\n",
    "clouds_prediction = []\n",
    "# Wind\n",
    "wind_speed_prediction = []\n",
    "wind_degree_prediction = []"
   ]
  },
  {
   "cell_type": "code",
   "execution_count": 23,
   "metadata": {},
   "outputs": [
    {
     "ename": "NameError",
     "evalue": "name 'forecast_json_data' is not defined",
     "output_type": "error",
     "traceback": [
      "\u001b[0;31m---------------------------------------------------------------------------\u001b[0m",
      "\u001b[0;31mNameError\u001b[0m                                 Traceback (most recent call last)",
      "\u001b[0;32m<ipython-input-23-355343024f8e>\u001b[0m in \u001b[0;36m<module>\u001b[0;34m\u001b[0m\n\u001b[1;32m      3\u001b[0m     \u001b[0mdf_predictions\u001b[0m\u001b[0;34m[\u001b[0m\u001b[0;34m'prediction_num'\u001b[0m\u001b[0;34m]\u001b[0m \u001b[0;34m=\u001b[0m \u001b[0mprediction_num\u001b[0m\u001b[0;34m\u001b[0m\u001b[0;34m\u001b[0m\u001b[0m\n\u001b[1;32m      4\u001b[0m     \u001b[0mlist_prediction_num\u001b[0m\u001b[0;34m.\u001b[0m\u001b[0mappend\u001b[0m\u001b[0;34m(\u001b[0m\u001b[0mprediction_num\u001b[0m\u001b[0;34m)\u001b[0m\u001b[0;34m\u001b[0m\u001b[0;34m\u001b[0m\u001b[0m\n\u001b[0;32m----> 5\u001b[0;31m     \u001b[0mdate_time_prediction\u001b[0m\u001b[0;34m.\u001b[0m\u001b[0mappend\u001b[0m\u001b[0;34m(\u001b[0m\u001b[0mforecast_json_data\u001b[0m\u001b[0;34m[\u001b[0m\u001b[0;34m'list'\u001b[0m\u001b[0;34m]\u001b[0m\u001b[0;34m[\u001b[0m\u001b[0mprediction_num\u001b[0m\u001b[0;34m]\u001b[0m\u001b[0;34m[\u001b[0m\u001b[0;34m'dt_txt'\u001b[0m\u001b[0;34m]\u001b[0m\u001b[0;34m)\u001b[0m\u001b[0;34m\u001b[0m\u001b[0;34m\u001b[0m\u001b[0m\n\u001b[0m\u001b[1;32m      6\u001b[0m \u001b[0;34m\u001b[0m\u001b[0m\n\u001b[1;32m      7\u001b[0m     \u001b[0mowm_city_id\u001b[0m\u001b[0;34m.\u001b[0m\u001b[0mappend\u001b[0m\u001b[0;34m(\u001b[0m\u001b[0mapi_data\u001b[0m\u001b[0;34m[\u001b[0m\u001b[0;34m'city'\u001b[0m\u001b[0;34m]\u001b[0m\u001b[0;34m[\u001b[0m\u001b[0;34m'id'\u001b[0m\u001b[0;34m]\u001b[0m\u001b[0;34m)\u001b[0m\u001b[0;34m\u001b[0m\u001b[0;34m\u001b[0m\u001b[0m\n",
      "\u001b[0;31mNameError\u001b[0m: name 'forecast_json_data' is not defined"
     ]
    }
   ],
   "source": [
    "# Loop Through the JSON\n",
    "for num_forecasts in api_data['list']:\n",
    "    df_predictions['prediction_num'] = prediction_num\n",
    "    list_prediction_num.append(prediction_num)\n",
    "    date_time_prediction.append(api_data['list'][prediction_num]['dt_txt'])\n",
    "    \n",
    "    owm_city_id.append(api_data['city']['id'])\n",
    "    city_name.append(api_data['city']['name'])\n",
    "    latitude.append(api_data['city']['coord']['lat'])\n",
    "    longitude.append(api_data['city']['coord']['lon'])\n",
    "    country_name.append(api_data['city']['country'])\n",
    "    population.append(api_data['city']['population'])\n",
    "    \n",
    "    if api_data['city']['timezone'] >0 :\n",
    "        timezone.append(\"+\" + str((api_data['city']['timezone'])/3600))\n",
    "    else:\n",
    "        timezone.append((api_data['city']['timezone'])/3600)\n",
    "        \n",
    "    sunrise.append(api_data['city']['sunrise'])\n",
    "    sunset.append(api_data['city']['sunset'])\n",
    "    \n",
    "    # Main\n",
    "    temp_prediction.append(api_data['list'][prediction_num]['main']['temp'])\n",
    "    temp_feels_like_prediction.append(api_data['list'][prediction_num]['main']['feels_like'])\n",
    "    temp_min_prediction.append(api_data['list'][prediction_num]['main']['temp_min'])\n",
    "    temp_max_prediction.append(api_data['list'][prediction_num]['main']['temp_max'])\n",
    "    pressure_prediction.append(api_data['list'][prediction_num]['main']['pressure'])\n",
    "    sea_level_prediction.append(api_data['list'][prediction_num]['main']['sea_level'])\n",
    "    grnd_level_prediction.append(api_data['list'][prediction_num]['main']['grnd_level'])\n",
    "    humidity_prediction.append(api_data['list'][prediction_num]['main']['humidity'])\n",
    "    temp_kf_prediction.append(api_data['list'][prediction_num]['main']['temp_kf'])\n",
    "    # Weather\n",
    "    main_weather_prediction.append(api_data['list'][prediction_num]['weather'][0]['main'])\n",
    "    main_weather_description_prediction.append(api_data['list'][prediction_num]['weather'][0]['description'])\n",
    "    # Clouds\n",
    "    clouds_prediction.append(api_data['list'][prediction_num]['clouds']['all'])\n",
    "    # Wind\n",
    "    wind_speed_prediction.append(api_data['list'][prediction_num]['wind']['speed'])\n",
    "    wind_degree_prediction.append(api_data['list'][prediction_num]['wind']['deg'])\n",
    "    \n",
    "    prediction_num += 1"
   ]
  },
  {
   "cell_type": "code",
   "execution_count": null,
   "metadata": {},
   "outputs": [],
   "source": []
  }
 ],
 "metadata": {
  "kernelspec": {
   "display_name": "Python 3",
   "language": "python",
   "name": "python3"
  },
  "language_info": {
   "codemirror_mode": {
    "name": "ipython",
    "version": 3
   },
   "file_extension": ".py",
   "mimetype": "text/x-python",
   "name": "python",
   "nbconvert_exporter": "python",
   "pygments_lexer": "ipython3",
   "version": "3.7.6"
  }
 },
 "nbformat": 4,
 "nbformat_minor": 4
}
